{
 "cells": [
  {
   "cell_type": "code",
   "execution_count": 5,
   "id": "aa9cc24a",
   "metadata": {},
   "outputs": [],
   "source": [
    "import requests, json\n",
    "import pandas as pd\n"
   ]
  },
  {
   "cell_type": "code",
   "execution_count": 2,
   "id": "02506a4e",
   "metadata": {},
   "outputs": [],
   "source": [
    "#application key"
   ]
  },
  {
   "cell_type": "code",
   "execution_count": 6,
   "id": "d55321ae",
   "metadata": {},
   "outputs": [],
   "source": [
    "CLIENT_ID, CLIENT_SECRET = \"3IggRLfWgbei77lDntce\", \"cmsf8eaQPA\""
   ]
  },
  {
   "cell_type": "code",
   "execution_count": 7,
   "id": "68ab0bb9",
   "metadata": {},
   "outputs": [],
   "source": [
    "url = \"https://openapi.naver.com/v1/datalab/search\""
   ]
  },
  {
   "cell_type": "code",
   "execution_count": 9,
   "id": "fca5b8f2",
   "metadata": {},
   "outputs": [],
   "source": [
    "params = { \n",
    "    \"startDate\": \"2018-01-01\", \n",
    "    \"endDate\": \"2022-07-31\", \n",
    "    \"timeUnit\": \"month\", \n",
    "    \"keywordGroups\": [ \n",
    "        {\"groupName\": \"트위터\", \"keywords\": [\"트위터\", \"트윗\"]}, \n",
    "        {\"groupName\": \"페이스북\", \"keywords\": [\"페이스북\", \"페북\"]}, \n",
    "        {\"groupName\": \"인스타그램\", \"keywords\": [\"인스타그램\", \"인스타\"]}, ] }"
   ]
  },
  {
   "cell_type": "code",
   "execution_count": 16,
   "id": "fe778db4",
   "metadata": {},
   "outputs": [],
   "source": [
    "headers={\n",
    "    \"Content-Type\": \"application/json\",\n",
    "    \"X-Naver-Client-Id\": CLIENT_ID,\n",
    "    \"X-Naver-Client-Secret\": CLIENT_SECRET\n",
    "}"
   ]
  },
  {
   "cell_type": "code",
   "execution_count": 18,
   "id": "b78d1e31",
   "metadata": {},
   "outputs": [
    {
     "data": {
      "text/plain": [
       "<Response [200]>"
      ]
     },
     "execution_count": 18,
     "metadata": {},
     "output_type": "execute_result"
    }
   ],
   "source": [
    "response = requests.post(url, data=json.dumps(params), headers=headers)\n",
    "response"
   ]
  },
  {
   "cell_type": "code",
   "execution_count": 21,
   "id": "6547ca44",
   "metadata": {},
   "outputs": [],
   "source": [
    "data = response.json()"
   ]
  },
  {
   "cell_type": "code",
   "execution_count": null,
   "id": "21487bcc",
   "metadata": {},
   "outputs": [],
   "source": []
  },
  {
   "cell_type": "code",
   "execution_count": 3,
   "id": "53503ad8",
   "metadata": {},
   "outputs": [],
   "source": [
    "#3.document :uRL params, headers"
   ]
  },
  {
   "cell_type": "code",
   "execution_count": 4,
   "id": "d6e947ec",
   "metadata": {},
   "outputs": [],
   "source": [
    "#4.request(url, params, headers) > response(json) : JSON(str)"
   ]
  },
  {
   "cell_type": "code",
   "execution_count": null,
   "id": "44f4f863",
   "metadata": {},
   "outputs": [],
   "source": [
    "4"
   ]
  }
 ],
 "metadata": {
  "kernelspec": {
   "display_name": "Python 3",
   "language": "python",
   "name": "python3"
  },
  "language_info": {
   "codemirror_mode": {
    "name": "ipython",
    "version": 3
   },
   "file_extension": ".py",
   "mimetype": "text/x-python",
   "name": "python",
   "nbconvert_exporter": "python",
   "pygments_lexer": "ipython3",
   "version": "3.8.8"
  }
 },
 "nbformat": 4,
 "nbformat_minor": 5
}
