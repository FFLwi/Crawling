{
 "cells": [
  {
   "cell_type": "code",
   "execution_count": 5,
   "id": "d50d2054",
   "metadata": {},
   "outputs": [],
   "source": [
    "import requests, json\n",
    "import pandas as pd\n"
   ]
  },
  {
   "cell_type": "code",
   "execution_count": 2,
   "id": "8917c13b",
   "metadata": {},
   "outputs": [],
   "source": [
    "#application key"
   ]
  },
  {
   "cell_type": "code",
   "execution_count": 6,
   "id": "1c02f5c3",
   "metadata": {},
   "outputs": [],
   "source": [
    "CLIENT_ID, CLIENT_SECRET = \"3IggRLfWgbei77lDntce\", \"cmsf8eaQPA\""
   ]
  },
  {
   "cell_type": "code",
   "execution_count": 7,
   "id": "d08d6863",
   "metadata": {},
   "outputs": [],
   "source": [
    "url = \"https://openapi.naver.com/v1/datalab/search\""
   ]
  },
  {
   "cell_type": "code",
   "execution_count": 9,
   "id": "41cc0809",
   "metadata": {},
   "outputs": [],
   "source": [
    "params = { \n",
    "    \"startDate\": \"2018-01-01\", \n",
    "    \"endDate\": \"2022-07-31\", \n",
    "    \"timeUnit\": \"month\", \n",
    "    \"keywordGroups\": [ \n",
    "        {\"groupName\": \"트위터\", \"keywords\": [\"트위터\", \"트윗\"]}, \n",
    "        {\"groupName\": \"페이스북\", \"keywords\": [\"페이스북\", \"페북\"]}, \n",
    "        {\"groupName\": \"인스타그램\", \"keywords\": [\"인스타그램\", \"인스타\"]}, ] }"
   ]
  },
  {
   "cell_type": "code",
   "execution_count": 16,
   "id": "328d19df",
   "metadata": {},
   "outputs": [],
   "source": [
    "headers={\n",
    "    \"Content-Type\": \"application/json\",\n",
    "    \"X-Naver-Client-Id\": CLIENT_ID,\n",
    "    \"X-Naver-Client-Secret\": CLIENT_SECRET\n",
    "}"
   ]
  },
  {
   "cell_type": "code",
   "execution_count": 31,
   "id": "56a545f0",
   "metadata": {},
   "outputs": [
    {
     "ename": "SyntaxError",
     "evalue": "invalid syntax (<ipython-input-31-b6a3b27d52f6>, line 1)",
     "output_type": "error",
     "traceback": [
      "\u001b[1;36m  File \u001b[1;32m\"<ipython-input-31-b6a3b27d52f6>\"\u001b[1;36m, line \u001b[1;32m1\u001b[0m\n\u001b[1;33m    data = response.json()[\"results\"] df = pd.DataFrame({ \"date\": [period[\"period\"] for period in data[0][\"data\"]], \"twitter\": [ratio[\"ratio\"] for ratio in data[0][\"data\"]], \"facebook\": [ratio[\"ratio\"] for ratio in data[1][\"data\"]], \"instagram\": [ratio[\"ratio\"] for ratio in data[2][\"data\"]], }) df.tail(2)\u001b[0m\n\u001b[1;37m                                      ^\u001b[0m\n\u001b[1;31mSyntaxError\u001b[0m\u001b[1;31m:\u001b[0m invalid syntax\n"
     ]
    }
   ],
   "source": [
    "\n",
    "data = response.json()[\"results\"] df = pd.DataFrame({ \"date\": [period[\"period\"] for period in data[0][\"data\"]], \"twitter\": [ratio[\"ratio\"] for ratio in data[0][\"data\"]], \"facebook\": [ratio[\"ratio\"] for ratio in data[1][\"data\"]], \"instagram\": [ratio[\"ratio\"] for ratio in data[2][\"data\"]], }) df.tail(2)"
   ]
  },
  {
   "cell_type": "code",
   "execution_count": 28,
   "id": "635555ad",
   "metadata": {},
   "outputs": [
    {
     "data": {
      "text/plain": [
       "{'startDate': '2018-01-01',\n",
       " 'endDate': '2022-07-31',\n",
       " 'timeUnit': 'month',\n",
       " 'results': [{'title': '트위터',\n",
       "   'keywords': ['트위터', '트윗'],\n",
       "   'data': [{'period': '2018-01-01', 'ratio': 14.59502},\n",
       "    {'period': '2018-02-01', 'ratio': 13.0238},\n",
       "    {'period': '2018-03-01', 'ratio': 12.97953},\n",
       "    {'period': '2018-04-01', 'ratio': 12.82991},\n",
       "    {'period': '2018-05-01', 'ratio': 13.05391},\n",
       "    {'period': '2018-06-01', 'ratio': 13.34512},\n",
       "    {'period': '2018-07-01', 'ratio': 13.02773},\n",
       "    {'period': '2018-08-01', 'ratio': 13.45399},\n",
       "    {'period': '2018-09-01', 'ratio': 12.83755},\n",
       "    {'period': '2018-10-01', 'ratio': 13.05677},\n",
       "    {'period': '2018-11-01', 'ratio': 12.77338},\n",
       "    {'period': '2018-12-01', 'ratio': 12.86931},\n",
       "    {'period': '2019-01-01', 'ratio': 13.31172},\n",
       "    {'period': '2019-02-01', 'ratio': 11.74776},\n",
       "    {'period': '2019-03-01', 'ratio': 11.82313},\n",
       "    {'period': '2019-04-01', 'ratio': 12.32991},\n",
       "    {'period': '2019-05-01', 'ratio': 12.43771},\n",
       "    {'period': '2019-06-01', 'ratio': 13.29913},\n",
       "    {'period': '2019-07-01', 'ratio': 14.00593},\n",
       "    {'period': '2019-08-01', 'ratio': 14.208},\n",
       "    {'period': '2019-09-01', 'ratio': 14.00856},\n",
       "    {'period': '2019-10-01', 'ratio': 14.88466},\n",
       "    {'period': '2019-11-01', 'ratio': 14.352},\n",
       "    {'period': '2019-12-01', 'ratio': 14.36689},\n",
       "    {'period': '2020-01-01', 'ratio': 16.05722},\n",
       "    {'period': '2020-02-01', 'ratio': 15.71465},\n",
       "    {'period': '2020-03-01', 'ratio': 18.5669},\n",
       "    {'period': '2020-04-01', 'ratio': 18.29928},\n",
       "    {'period': '2020-05-01', 'ratio': 21.0523},\n",
       "    {'period': '2020-06-01', 'ratio': 19.27569},\n",
       "    {'period': '2020-07-01', 'ratio': 20.59297},\n",
       "    {'period': '2020-08-01', 'ratio': 19.3598},\n",
       "    {'period': '2020-09-01', 'ratio': 19.96801},\n",
       "    {'period': '2020-10-01', 'ratio': 20.88909},\n",
       "    {'period': '2020-11-01', 'ratio': 19.58926},\n",
       "    {'period': '2020-12-01', 'ratio': 21.54861},\n",
       "    {'period': '2021-01-01', 'ratio': 21.93972},\n",
       "    {'period': '2021-02-01', 'ratio': 20.09926},\n",
       "    {'period': '2021-03-01', 'ratio': 21.47994},\n",
       "    {'period': '2021-04-01', 'ratio': 22.94525},\n",
       "    {'period': '2021-05-01', 'ratio': 23.00813},\n",
       "    {'period': '2021-06-01', 'ratio': 22.19201},\n",
       "    {'period': '2021-07-01', 'ratio': 22.44472},\n",
       "    {'period': '2021-08-01', 'ratio': 23.87169},\n",
       "    {'period': '2021-09-01', 'ratio': 21.40248},\n",
       "    {'period': '2021-10-01', 'ratio': 22.49636},\n",
       "    {'period': '2021-11-01', 'ratio': 21.3438},\n",
       "    {'period': '2021-12-01', 'ratio': 21.55931},\n",
       "    {'period': '2022-01-01', 'ratio': 21.94339},\n",
       "    {'period': '2022-02-01', 'ratio': 22.43099},\n",
       "    {'period': '2022-03-01', 'ratio': 23.78266},\n",
       "    {'period': '2022-04-01', 'ratio': 23.83847},\n",
       "    {'period': '2022-05-01', 'ratio': 22.99363},\n",
       "    {'period': '2022-06-01', 'ratio': 23.2411},\n",
       "    {'period': '2022-07-01', 'ratio': 24.06197}]},\n",
       "  {'title': '페이스북',\n",
       "   'keywords': ['페이스북', '페북'],\n",
       "   'data': [{'period': '2018-01-01', 'ratio': 97.80481},\n",
       "    {'period': '2018-02-01', 'ratio': 89.05814},\n",
       "    {'period': '2018-03-01', 'ratio': 98.84292},\n",
       "    {'period': '2018-04-01', 'ratio': 100},\n",
       "    {'period': '2018-05-01', 'ratio': 92.23588},\n",
       "    {'period': '2018-06-01', 'ratio': 91.70143},\n",
       "    {'period': '2018-07-01', 'ratio': 87.916},\n",
       "    {'period': '2018-08-01', 'ratio': 83.56488},\n",
       "    {'period': '2018-09-01', 'ratio': 82.66018},\n",
       "    {'period': '2018-10-01', 'ratio': 81.30381},\n",
       "    {'period': '2018-11-01', 'ratio': 76.80167},\n",
       "    {'period': '2018-12-01', 'ratio': 75.43269},\n",
       "    {'period': '2019-01-01', 'ratio': 70.21709},\n",
       "    {'period': '2019-02-01', 'ratio': 62.57096},\n",
       "    {'period': '2019-03-01', 'ratio': 70.02431},\n",
       "    {'period': '2019-04-01', 'ratio': 71.67271},\n",
       "    {'period': '2019-05-01', 'ratio': 67.79872},\n",
       "    {'period': '2019-06-01', 'ratio': 69.23259},\n",
       "    {'period': '2019-07-01', 'ratio': 64.22088},\n",
       "    {'period': '2019-08-01', 'ratio': 61.74662},\n",
       "    {'period': '2019-09-01', 'ratio': 62.30318},\n",
       "    {'period': '2019-10-01', 'ratio': 62.46025},\n",
       "    {'period': '2019-11-01', 'ratio': 59.88514},\n",
       "    {'period': '2019-12-01', 'ratio': 57.80639},\n",
       "    {'period': '2020-01-01', 'ratio': 55.94828},\n",
       "    {'period': '2020-02-01', 'ratio': 56.90092},\n",
       "    {'period': '2020-03-01', 'ratio': 63.03497},\n",
       "    {'period': '2020-04-01', 'ratio': 57.31923},\n",
       "    {'period': '2020-05-01', 'ratio': 56.65968},\n",
       "    {'period': '2020-06-01', 'ratio': 54.42362},\n",
       "    {'period': '2020-07-01', 'ratio': 56.80884},\n",
       "    {'period': '2020-08-01', 'ratio': 54.60338},\n",
       "    {'period': '2020-09-01', 'ratio': 51.64203},\n",
       "    {'period': '2020-10-01', 'ratio': 48.64782},\n",
       "    {'period': '2020-11-01', 'ratio': 46.34281},\n",
       "    {'period': '2020-12-01', 'ratio': 47.16999},\n",
       "    {'period': '2021-01-01', 'ratio': 43.23795},\n",
       "    {'period': '2021-02-01', 'ratio': 37.94335},\n",
       "    {'period': '2021-03-01', 'ratio': 42.96809},\n",
       "    {'period': '2021-04-01', 'ratio': 42.4486},\n",
       "    {'period': '2021-05-01', 'ratio': 39.64216},\n",
       "    {'period': '2021-06-01', 'ratio': 38.09701},\n",
       "    {'period': '2021-07-01', 'ratio': 36.44556},\n",
       "    {'period': '2021-08-01', 'ratio': 34.16464},\n",
       "    {'period': '2021-09-01', 'ratio': 31.2108},\n",
       "    {'period': '2021-10-01', 'ratio': 32.85607},\n",
       "    {'period': '2021-11-01', 'ratio': 28.60438},\n",
       "    {'period': '2021-12-01', 'ratio': 27.23295},\n",
       "    {'period': '2022-01-01', 'ratio': 25.93933},\n",
       "    {'period': '2022-02-01', 'ratio': 23.6213},\n",
       "    {'period': '2022-03-01', 'ratio': 24.75851},\n",
       "    {'period': '2022-04-01', 'ratio': 22.22382},\n",
       "    {'period': '2022-05-01', 'ratio': 21.65302},\n",
       "    {'period': '2022-06-01', 'ratio': 20.04381},\n",
       "    {'period': '2022-07-01', 'ratio': 19.53712}]},\n",
       "  {'title': '인스타그램',\n",
       "   'keywords': ['인스타그램', '인스타'],\n",
       "   'data': [{'period': '2018-01-01', 'ratio': 23.41982},\n",
       "    {'period': '2018-02-01', 'ratio': 22.53544},\n",
       "    {'period': '2018-03-01', 'ratio': 25.3988},\n",
       "    {'period': '2018-04-01', 'ratio': 26.55983},\n",
       "    {'period': '2018-05-01', 'ratio': 28.60035},\n",
       "    {'period': '2018-06-01', 'ratio': 28.40753},\n",
       "    {'period': '2018-07-01', 'ratio': 27.84405},\n",
       "    {'period': '2018-08-01', 'ratio': 29.84383},\n",
       "    {'period': '2018-09-01', 'ratio': 25.05096},\n",
       "    {'period': '2018-10-01', 'ratio': 27.2048},\n",
       "    {'period': '2018-11-01', 'ratio': 21.97864},\n",
       "    {'period': '2018-12-01', 'ratio': 20.8739},\n",
       "    {'period': '2019-01-01', 'ratio': 22.51379},\n",
       "    {'period': '2019-02-01', 'ratio': 19.33788},\n",
       "    {'period': '2019-03-01', 'ratio': 21.67678},\n",
       "    {'period': '2019-04-01', 'ratio': 21.16257},\n",
       "    {'period': '2019-05-01', 'ratio': 20.9485},\n",
       "    {'period': '2019-06-01', 'ratio': 21.76954},\n",
       "    {'period': '2019-07-01', 'ratio': 22.586},\n",
       "    {'period': '2019-08-01', 'ratio': 21.43535},\n",
       "    {'period': '2019-09-01', 'ratio': 19.83802},\n",
       "    {'period': '2019-10-01', 'ratio': 22.24957},\n",
       "    {'period': '2019-11-01', 'ratio': 21.55812},\n",
       "    {'period': '2019-12-01', 'ratio': 21.52333},\n",
       "    {'period': '2020-01-01', 'ratio': 22.0381},\n",
       "    {'period': '2020-02-01', 'ratio': 21.53446},\n",
       "    {'period': '2020-03-01', 'ratio': 25.01454},\n",
       "    {'period': '2020-04-01', 'ratio': 24.12708},\n",
       "    {'period': '2020-05-01', 'ratio': 25.68412},\n",
       "    {'period': '2020-06-01', 'ratio': 25.47291},\n",
       "    {'period': '2020-07-01', 'ratio': 27.08637},\n",
       "    {'period': '2020-08-01', 'ratio': 26.73002},\n",
       "    {'period': '2020-09-01', 'ratio': 26.0109},\n",
       "    {'period': '2020-10-01', 'ratio': 26.21388},\n",
       "    {'period': '2020-11-01', 'ratio': 25.81836},\n",
       "    {'period': '2020-12-01', 'ratio': 25.74078},\n",
       "    {'period': '2021-01-01', 'ratio': 25.5243},\n",
       "    {'period': '2021-02-01', 'ratio': 22.79679},\n",
       "    {'period': '2021-03-01', 'ratio': 28.04835},\n",
       "    {'period': '2021-04-01', 'ratio': 27.90414},\n",
       "    {'period': '2021-05-01', 'ratio': 26.56014},\n",
       "    {'period': '2021-06-01', 'ratio': 26.31208},\n",
       "    {'period': '2021-07-01', 'ratio': 25.15776},\n",
       "    {'period': '2021-08-01', 'ratio': 25.07517},\n",
       "    {'period': '2021-09-01', 'ratio': 24.95299},\n",
       "    {'period': '2021-10-01', 'ratio': 28.76584},\n",
       "    {'period': '2021-11-01', 'ratio': 23.30904},\n",
       "    {'period': '2021-12-01', 'ratio': 22.87539},\n",
       "    {'period': '2022-01-01', 'ratio': 22.0805},\n",
       "    {'period': '2022-02-01', 'ratio': 20.23895},\n",
       "    {'period': '2022-03-01', 'ratio': 22.4226},\n",
       "    {'period': '2022-04-01', 'ratio': 22.07676},\n",
       "    {'period': '2022-05-01', 'ratio': 22.23291},\n",
       "    {'period': '2022-06-01', 'ratio': 21.63141},\n",
       "    {'period': '2022-07-01', 'ratio': 21.40551}]}]}"
      ]
     },
     "execution_count": 28,
     "metadata": {},
     "output_type": "execute_result"
    }
   ],
   "source": [
    "response.json()"
   ]
  },
  {
   "cell_type": "code",
   "execution_count": 30,
   "id": "20ea106a",
   "metadata": {},
   "outputs": [
    {
     "ename": "SyntaxError",
     "evalue": "invalid syntax (<ipython-input-30-b6a3b27d52f6>, line 1)",
     "output_type": "error",
     "traceback": [
      "\u001b[1;36m  File \u001b[1;32m\"<ipython-input-30-b6a3b27d52f6>\"\u001b[1;36m, line \u001b[1;32m1\u001b[0m\n\u001b[1;33m    data = response.json()[\"results\"] df = pd.DataFrame({ \"date\": [period[\"period\"] for period in data[0][\"data\"]], \"twitter\": [ratio[\"ratio\"] for ratio in data[0][\"data\"]], \"facebook\": [ratio[\"ratio\"] for ratio in data[1][\"data\"]], \"instagram\": [ratio[\"ratio\"] for ratio in data[2][\"data\"]], }) df.tail(2)\u001b[0m\n\u001b[1;37m                                      ^\u001b[0m\n\u001b[1;31mSyntaxError\u001b[0m\u001b[1;31m:\u001b[0m invalid syntax\n"
     ]
    }
   ],
   "source": [
    "data = response.json()[\"results\"] df = pd.DataFrame({ \"date\": [period[\"period\"] for period in data[0][\"data\"]], \"twitter\": [ratio[\"ratio\"] for ratio in data[0][\"data\"]], \"facebook\": [ratio[\"ratio\"] for ratio in data[1][\"data\"]], \"instagram\": [ratio[\"ratio\"] for ratio in data[2][\"data\"]], }) df.tail(2)\n"
   ]
  },
  {
   "cell_type": "code",
   "execution_count": 3,
   "id": "2f1c0c00",
   "metadata": {},
   "outputs": [],
   "source": [
    "#3.document :uRL params, headers"
   ]
  },
  {
   "cell_type": "code",
   "execution_count": 4,
   "id": "c1c0e179",
   "metadata": {},
   "outputs": [],
   "source": [
    "#4.request(url, params, headers) > response(json) : JSON(str)"
   ]
  },
  {
   "cell_type": "code",
   "execution_count": null,
   "id": "6035ebec",
   "metadata": {},
   "outputs": [],
   "source": [
    "4"
   ]
  }
 ],
 "metadata": {
  "kernelspec": {
   "display_name": "Python 3",
   "language": "python",
   "name": "python3"
  },
  "language_info": {
   "codemirror_mode": {
    "name": "ipython",
    "version": 3
   },
   "file_extension": ".py",
   "mimetype": "text/x-python",
   "name": "python",
   "nbconvert_exporter": "python",
   "pygments_lexer": "ipython3",
   "version": "3.8.8"
  }
 },
 "nbformat": 4,
 "nbformat_minor": 5
}
